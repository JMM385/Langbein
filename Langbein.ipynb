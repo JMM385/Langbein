{
 "cells": [
  {
   "cell_type": "markdown",
   "id": "settled-reunion",
   "metadata": {},
   "source": [
    "## Corrección de Langbein - Ejemplos de su aplicación"
   ]
  },
  {
   "cell_type": "markdown",
   "id": "greater-strain",
   "metadata": {},
   "source": [
    "### El objetivo de estos ejercicios es entender cuando corresponde, cuando no y cuando puede ser innecesario aplicar la corrección de Langbein en los distintos tipos de casos que se pudieran llegar a plantear."
   ]
  },
  {
   "cell_type": "markdown",
   "id": "satisfied-optimization",
   "metadata": {},
   "source": [
    "### A partir de la serie de caudales medios diarios máximos anuales correspondientes al río Carrenleufú en la estación La Elena se pide:\n",
    "### 1. Importar los datos y gaficar la serie de caudales máximos anuales.\n",
    "### 2. Ajustar la muestra a una función de distribución de probabilidad EV1 (Gumbel). Estimar los parámetros de la misma a través del método de los momentos ordinarios (MO).\n",
    "### 3. Obtener los caudales asociados a distintos períodos de retorno.\n",
    "### 4. Obtener los períodos de retorno asociados a distintos caudales.\n",
    "### 5. Calcular el período de retorno y el caudal de diseño de una obra cuya vida util será de 50 años y el riesgo asumido del 10%.\n",
    "### 6. Calcular el riesgo que se asume al diseñar otra obra para un caudal de 100 m3/s y vida util de 50 años."
   ]
  },
  {
   "cell_type": "code",
   "execution_count": 1,
   "id": "conscious-occupation",
   "metadata": {},
   "outputs": [],
   "source": [
    "# Librerías\n",
    "import numpy as np\n",
    "import pandas as pd\n",
    "import matplotlib as mpl\n",
    "import matplotlib.pyplot as plt\n",
    "import seaborn as sns\n",
    "from os.path import join, dirname"
   ]
  },
  {
   "cell_type": "code",
   "execution_count": 2,
   "id": "chinese-emission",
   "metadata": {},
   "outputs": [],
   "source": [
    "# Defino función para hacer un preview de los primeras y últimas n filas de los dataframes (dfs).\n",
    "def df_preview(df, n):\n",
    "    return pd.concat([df.head(n), df.tail(n)]) "
   ]
  },
  {
   "cell_type": "markdown",
   "id": "extensive-necessity",
   "metadata": {},
   "source": [
    "### 1. Importar los datos y gaficar la serie de caudales máximos anuales."
   ]
  },
  {
   "cell_type": "code",
   "execution_count": 3,
   "id": "blocked-bachelor",
   "metadata": {},
   "outputs": [
    {
     "data": {
      "text/html": [
       "<div>\n",
       "<style scoped>\n",
       "    .dataframe tbody tr th:only-of-type {\n",
       "        vertical-align: middle;\n",
       "    }\n",
       "\n",
       "    .dataframe tbody tr th {\n",
       "        vertical-align: top;\n",
       "    }\n",
       "\n",
       "    .dataframe thead th {\n",
       "        text-align: right;\n",
       "    }\n",
       "</style>\n",
       "<table border=\"1\" class=\"dataframe\">\n",
       "  <thead>\n",
       "    <tr style=\"text-align: right;\">\n",
       "      <th></th>\n",
       "      <th>Fecha y Hora</th>\n",
       "      <th>Caudal Medio Diario Máximo [m3/s]</th>\n",
       "    </tr>\n",
       "  </thead>\n",
       "  <tbody>\n",
       "    <tr>\n",
       "      <th>0</th>\n",
       "      <td>1954-01-04</td>\n",
       "      <td>77.90</td>\n",
       "    </tr>\n",
       "    <tr>\n",
       "      <th>1</th>\n",
       "      <td>1955-01-04</td>\n",
       "      <td>66.80</td>\n",
       "    </tr>\n",
       "    <tr>\n",
       "      <th>2</th>\n",
       "      <td>1956-01-04</td>\n",
       "      <td>44.10</td>\n",
       "    </tr>\n",
       "    <tr>\n",
       "      <th>61</th>\n",
       "      <td>2017-01-04</td>\n",
       "      <td>99.57</td>\n",
       "    </tr>\n",
       "    <tr>\n",
       "      <th>62</th>\n",
       "      <td>2018-01-04</td>\n",
       "      <td>278.74</td>\n",
       "    </tr>\n",
       "    <tr>\n",
       "      <th>63</th>\n",
       "      <td>2019-01-04</td>\n",
       "      <td>61.72</td>\n",
       "    </tr>\n",
       "  </tbody>\n",
       "</table>\n",
       "</div>"
      ],
      "text/plain": [
       "   Fecha y Hora  Caudal Medio Diario Máximo [m3/s]\n",
       "0    1954-01-04                              77.90\n",
       "1    1955-01-04                              66.80\n",
       "2    1956-01-04                              44.10\n",
       "61   2017-01-04                              99.57\n",
       "62   2018-01-04                             278.74\n",
       "63   2019-01-04                              61.72"
      ]
     },
     "execution_count": 3,
     "metadata": {},
     "output_type": "execute_result"
    }
   ],
   "source": [
    "# Se importa la serie de caudales máximos anuales.\n",
    "df_qma = pd.read_csv('https://raw.githubusercontent.com/JMM385/Langbein/main/data/carrenleufu_la_elena_qma.csv', \n",
    "                     encoding='latin1')\n",
    "# Se eliminan valores NANs\n",
    "df_qma = df_qma.dropna()\n",
    "# Se convierte la columna 'Fecha y Hora' al tipo DateTime\n",
    "df_qma['Fecha y Hora'] = pd.to_datetime(df_qma['Fecha y Hora'])\n",
    "df_preview(df_qma, 3)"
   ]
  },
  {
   "cell_type": "code",
   "execution_count": 4,
   "id": "quantitative-accordance",
   "metadata": {},
   "outputs": [],
   "source": [
    "# Se modifica el nombre de las columnas por uno más corto.\n",
    "df_qma = df_qma.rename(columns={'Fecha y Hora' : 'Year',\n",
    "                                'Caudal Medio Diario Máximo [m3/s]' : 'QMA[m3/s]' \n",
    "                               })\n",
    "# Se define a la columna ['Year'] como index del dataframe y el formato de la fecha.\n",
    "df_qma = df_qma.set_index('Year').to_period('Y')"
   ]
  },
  {
   "cell_type": "code",
   "execution_count": 5,
   "id": "biological-overhead",
   "metadata": {},
   "outputs": [
    {
     "data": {
      "text/html": [
       "<div>\n",
       "<style scoped>\n",
       "    .dataframe tbody tr th:only-of-type {\n",
       "        vertical-align: middle;\n",
       "    }\n",
       "\n",
       "    .dataframe tbody tr th {\n",
       "        vertical-align: top;\n",
       "    }\n",
       "\n",
       "    .dataframe thead th {\n",
       "        text-align: right;\n",
       "    }\n",
       "</style>\n",
       "<table border=\"1\" class=\"dataframe\">\n",
       "  <thead>\n",
       "    <tr style=\"text-align: right;\">\n",
       "      <th></th>\n",
       "      <th>QMA[m3/s]</th>\n",
       "    </tr>\n",
       "    <tr>\n",
       "      <th>Year</th>\n",
       "      <th></th>\n",
       "    </tr>\n",
       "  </thead>\n",
       "  <tbody>\n",
       "    <tr>\n",
       "      <th>1954</th>\n",
       "      <td>77.90</td>\n",
       "    </tr>\n",
       "    <tr>\n",
       "      <th>1955</th>\n",
       "      <td>66.80</td>\n",
       "    </tr>\n",
       "    <tr>\n",
       "      <th>1956</th>\n",
       "      <td>44.10</td>\n",
       "    </tr>\n",
       "    <tr>\n",
       "      <th>2017</th>\n",
       "      <td>99.57</td>\n",
       "    </tr>\n",
       "    <tr>\n",
       "      <th>2018</th>\n",
       "      <td>278.74</td>\n",
       "    </tr>\n",
       "    <tr>\n",
       "      <th>2019</th>\n",
       "      <td>61.72</td>\n",
       "    </tr>\n",
       "  </tbody>\n",
       "</table>\n",
       "</div>"
      ],
      "text/plain": [
       "      QMA[m3/s]\n",
       "Year           \n",
       "1954      77.90\n",
       "1955      66.80\n",
       "1956      44.10\n",
       "2017      99.57\n",
       "2018     278.74\n",
       "2019      61.72"
      ]
     },
     "execution_count": 5,
     "metadata": {},
     "output_type": "execute_result"
    }
   ],
   "source": [
    "df_preview(df_qma, 3)"
   ]
  },
  {
   "cell_type": "code",
   "execution_count": 6,
   "id": "charitable-field",
   "metadata": {},
   "outputs": [
    {
     "data": {
      "image/png": "[encoded data removed]",
      "text/plain": [
       "<Figure size 1080x360 with 1 Axes>"
      ]
     },
     "metadata": {},
     "output_type": "display_data"
    }
   ],
   "source": [
    "# Se define el estilo a utilizar en los gráficos.\n",
    "mpl.style.use('ggplot') \n",
    "\n",
    "# Se define gráfico para visualizar los QMA vs t.\n",
    "fig, ax = plt.subplots(figsize=(15, 5))\n",
    "ax.scatter(df_qma.index.to_timestamp(), df_qma.values)\n",
    "\n",
    "ax.set_title('Caudales Máximos Anuales 1954-2019. Río Carrenleufú, Estación La Elena')\n",
    "ax.set_ylabel('QMA [m3/s]')\n",
    "ax.set_xlabel('Año')\n",
    "\n",
    "plt.show();"
   ]
  },
  {
   "cell_type": "markdown",
   "id": "accepting-sender",
   "metadata": {},
   "source": [
    "### 2. Ajustar la muestra a una función de distribución de probabilidad EV1. Estimar los parámetros de la misma a través del método de los momentos ordinarios."
   ]
  },
  {
   "cell_type": "markdown",
   "id": "accessible-steal",
   "metadata": {},
   "source": [
    "#### El desvio y la media de la muestra se calculan con la libreria Numpy.\n",
    "#### Los parámetros u y $\\alpha $ por el método de los momentos ordinarios se definen como:\n",
    "$$\n",
    "\\alpha = \\frac{\\sqrt{6} S_{Q}}{\\pi} \n",
    "$$\n",
    "$$\n",
    "u = \\tilde{Q} - 0,5772 \\alpha\n",
    "$$"
   ]
  },
  {
   "cell_type": "code",
   "execution_count": 7,
   "id": "altered-heading",
   "metadata": {},
   "outputs": [
    {
     "name": "stdout",
     "output_type": "stream",
     "text": [
      "El desvío estandar es:  42.834 m3/s \n",
      "La media es:  88.106 m3/s \n",
      "El parámetro alpha es:  33.397 m3/s \n",
      "El parámetro u es:  68.829 m3/s \n",
      "\n"
     ]
    }
   ],
   "source": [
    "S_q = np.std(df_qma['QMA[m3/s]']) # Desvío estandar de la muestra [m3/s]\n",
    "Q = np.mean(df_qma['QMA[m3/s]']) # Media de la muestra [m3/s]\n",
    "# Estimación de los parámtros u y alpha por momentos ordinarios\n",
    "alpha = np.sqrt(6) * S_q / np.pi # Parámetro de escala [m3/s]\n",
    "u = Q - 0.5772 * alpha # Moda, parámetro de ubicación [m3/s]\n",
    "print('El desvío estandar es: ', round(S_q, 3), 'm3/s','\\n'\n",
    "      'La media es: ', round(Q, 3),'m3/s','\\n'\n",
    "      'El parámetro alpha es: ', round(alpha, 3), 'm3/s','\\n'\n",
    "      'El parámetro u es: ', round(u, 3), 'm3/s','\\n'\n",
    "     )"
   ]
  },
  {
   "cell_type": "markdown",
   "id": "weird-linux",
   "metadata": {},
   "source": [
    "#### Se esta en condiciones de obtener las funciones de distribución acumulada y de densidad de la distribución de Gumbel definidas respectivamente según:\n",
    "$$\n",
    "F(Q) = e^{-e^{-(\\frac{Q-u}{\\alpha})}}\n",
    "$$\n",
    "$$\n",
    "f(Q) = \\frac{1}{\\alpha}  e^{-(\\frac{Q-u}{\\alpha})}  e^{-e^{-(\\frac{Q-u}{\\alpha})}}\n",
    "$$"
   ]
  },
  {
   "cell_type": "code",
   "execution_count": 8,
   "id": "ruled-tenant",
   "metadata": {},
   "outputs": [
    {
     "data": {
      "text/html": [
       "<div>\n",
       "<style scoped>\n",
       "    .dataframe tbody tr th:only-of-type {\n",
       "        vertical-align: middle;\n",
       "    }\n",
       "\n",
       "    .dataframe tbody tr th {\n",
       "        vertical-align: top;\n",
       "    }\n",
       "\n",
       "    .dataframe thead th {\n",
       "        text-align: right;\n",
       "    }\n",
       "</style>\n",
       "<table border=\"1\" class=\"dataframe\">\n",
       "  <thead>\n",
       "    <tr style=\"text-align: right;\">\n",
       "      <th></th>\n",
       "      <th>Q</th>\n",
       "      <th>F</th>\n",
       "      <th>f</th>\n",
       "    </tr>\n",
       "  </thead>\n",
       "  <tbody>\n",
       "    <tr>\n",
       "      <th>396</th>\n",
       "      <td>1980</td>\n",
       "      <td>1.0</td>\n",
       "      <td>4.205293e-27</td>\n",
       "    </tr>\n",
       "    <tr>\n",
       "      <th>397</th>\n",
       "      <td>1985</td>\n",
       "      <td>1.0</td>\n",
       "      <td>3.620573e-27</td>\n",
       "    </tr>\n",
       "    <tr>\n",
       "      <th>398</th>\n",
       "      <td>1990</td>\n",
       "      <td>1.0</td>\n",
       "      <td>3.117154e-27</td>\n",
       "    </tr>\n",
       "    <tr>\n",
       "      <th>399</th>\n",
       "      <td>1995</td>\n",
       "      <td>1.0</td>\n",
       "      <td>2.683733e-27</td>\n",
       "    </tr>\n",
       "    <tr>\n",
       "      <th>400</th>\n",
       "      <td>2000</td>\n",
       "      <td>1.0</td>\n",
       "      <td>2.310576e-27</td>\n",
       "    </tr>\n",
       "  </tbody>\n",
       "</table>\n",
       "</div>"
      ],
      "text/plain": [
       "        Q    F             f\n",
       "396  1980  1.0  4.205293e-27\n",
       "397  1985  1.0  3.620573e-27\n",
       "398  1990  1.0  3.117154e-27\n",
       "399  1995  1.0  2.683733e-27\n",
       "400  2000  1.0  2.310576e-27"
      ]
     },
     "execution_count": 8,
     "metadata": {},
     "output_type": "execute_result"
    }
   ],
   "source": [
    "# Se define df para obtener la función de distribución acumulada y de densidad \n",
    "# (dependientes del caudal).\n",
    "df_gumbel = pd.DataFrame()\n",
    "df_gumbel['Q'] = np.arange(0, 2005, 5)\n",
    "\n",
    "df_gumbel['F'] = np.exp(-np.exp(-((df_gumbel['Q'] - u) / alpha)))\n",
    "df_gumbel['f'] = (1/alpha) * np.exp(-((df_gumbel['Q'] - u) / alpha)) * np.exp(-np.exp(-((df_gumbel['Q'] - u) / alpha)))\n",
    "\n",
    "df_gumbel.tail()"
   ]
  },
  {
   "cell_type": "code",
   "execution_count": 9,
   "id": "manual-field",
   "metadata": {},
   "outputs": [
    {
     "data": {
      "image/png": "[encoded data removed]",
      "text/plain": [
       "<Figure size 540x540 with 2 Axes>"
      ]
     },
     "metadata": {},
     "output_type": "display_data"
    }
   ],
   "source": [
    "# Se define gráfico para visualizar las funciones de probabilidad acumulada y de densidad.\n",
    "fig, ax = plt.subplots(2, 1, figsize=(7.5, 7.5))\n",
    "\n",
    "ax[0].plot(df_gumbel['Q'], df_gumbel['F'])\n",
    "ax[1].plot(df_gumbel['Q'], df_gumbel['f'])\n",
    "\n",
    "ax[0].set_title('Función de Distribución Acumulada')\n",
    "ax[0].set_ylabel('F')\n",
    "ax[0].set_xlabel('Q [m3/s]')\n",
    "\n",
    "ax[1].set_title('Función de Densidad')\n",
    "ax[1].set_ylabel('f')\n",
    "ax[1].set_xlabel('Q [m3/s]')\n",
    "\n",
    "fig.tight_layout()\n",
    "plt.show();"
   ]
  },
  {
   "cell_type": "markdown",
   "id": "covered-phrase",
   "metadata": {},
   "source": [
    "### 3. Obtener los caudales asociados a distintos períodos de retorno."
   ]
  },
  {
   "cell_type": "markdown",
   "id": "widespread-broad",
   "metadata": {},
   "source": [
    "#### Antes de obtener los cuantiles debe aplicarse la corrección al período de retorno según la expresión que propone Langbein:\n",
    "$$\n",
    "T_{am} = \\frac{1}{1-e^\\frac{-1}{T}}\n",
    "$$\n",
    "#### Luego se está en condiciones de obtener cuantiles asociados al período de retorno original pero utilizando $T_{am}$ en lugar de T en la expresión del cuantil tal como se muestra a continuación:\n",
    "$$\n",
    "Q_{T} = u + \\alpha(-ln(-ln(1 - \\frac{1}{T_{am}})))\n",
    "$$"
   ]
  },
  {
   "cell_type": "markdown",
   "id": "upset-state",
   "metadata": {},
   "source": [
    "#### Se calculan los períodos de retorno corregidos para distintas recurrencias y se observan los valores obtenidos y su incidencia."
   ]
  },
  {
   "cell_type": "code",
   "execution_count": 10,
   "id": "emotional-myrtle",
   "metadata": {},
   "outputs": [
    {
     "data": {
      "text/html": [
       "<div>\n",
       "<style scoped>\n",
       "    .dataframe tbody tr th:only-of-type {\n",
       "        vertical-align: middle;\n",
       "    }\n",
       "\n",
       "    .dataframe tbody tr th {\n",
       "        vertical-align: top;\n",
       "    }\n",
       "\n",
       "    .dataframe thead th {\n",
       "        text-align: right;\n",
       "    }\n",
       "</style>\n",
       "<table border=\"1\" class=\"dataframe\">\n",
       "  <thead>\n",
       "    <tr style=\"text-align: right;\">\n",
       "      <th></th>\n",
       "      <th>T</th>\n",
       "      <th>T_am</th>\n",
       "    </tr>\n",
       "  </thead>\n",
       "  <tbody>\n",
       "    <tr>\n",
       "      <th>0</th>\n",
       "      <td>2</td>\n",
       "      <td>2.541494</td>\n",
       "    </tr>\n",
       "    <tr>\n",
       "      <th>1</th>\n",
       "      <td>3</td>\n",
       "      <td>3.527726</td>\n",
       "    </tr>\n",
       "    <tr>\n",
       "      <th>2</th>\n",
       "      <td>4</td>\n",
       "      <td>4.520812</td>\n",
       "    </tr>\n",
       "    <tr>\n",
       "      <th>3</th>\n",
       "      <td>5</td>\n",
       "      <td>5.516656</td>\n",
       "    </tr>\n",
       "    <tr>\n",
       "      <th>4</th>\n",
       "      <td>6</td>\n",
       "      <td>6.513882</td>\n",
       "    </tr>\n",
       "    <tr>\n",
       "      <th>994</th>\n",
       "      <td>996</td>\n",
       "      <td>996.500084</td>\n",
       "    </tr>\n",
       "    <tr>\n",
       "      <th>995</th>\n",
       "      <td>997</td>\n",
       "      <td>997.500084</td>\n",
       "    </tr>\n",
       "    <tr>\n",
       "      <th>996</th>\n",
       "      <td>998</td>\n",
       "      <td>998.500084</td>\n",
       "    </tr>\n",
       "    <tr>\n",
       "      <th>997</th>\n",
       "      <td>999</td>\n",
       "      <td>999.500083</td>\n",
       "    </tr>\n",
       "    <tr>\n",
       "      <th>998</th>\n",
       "      <td>1000</td>\n",
       "      <td>1000.500083</td>\n",
       "    </tr>\n",
       "  </tbody>\n",
       "</table>\n",
       "</div>"
      ],
      "text/plain": [
       "        T         T_am\n",
       "0       2     2.541494\n",
       "1       3     3.527726\n",
       "2       4     4.520812\n",
       "3       5     5.516656\n",
       "4       6     6.513882\n",
       "994   996   996.500084\n",
       "995   997   997.500084\n",
       "996   998   998.500084\n",
       "997   999   999.500083\n",
       "998  1000  1000.500083"
      ]
     },
     "execution_count": 10,
     "metadata": {},
     "output_type": "execute_result"
    }
   ],
   "source": [
    "# Se define df con distintos períodos de retorno y su valor asociado según \n",
    "# la corrección que propone Langbein.\n",
    "df_T = pd.DataFrame()\n",
    "df_T['T'] = np.arange(2, 1001, 1)\n",
    "df_T['T_am'] = 1 / (1 - np.exp (-1/df_T['T']))\n",
    "\n",
    "df_preview(df_T, 5)"
   ]
  },
  {
   "cell_type": "code",
   "execution_count": 11,
   "id": "subject-solomon",
   "metadata": {},
   "outputs": [
    {
     "data": {
      "image/png": "[encoded data removed]",
      "text/plain": [
       "<Figure size 360x360 with 1 Axes>"
      ]
     },
     "metadata": {},
     "output_type": "display_data"
    }
   ],
   "source": [
    "# Se define figura para visualizar T vs Tam.\n",
    "fig, ax = plt.subplots(figsize=(5, 5))\n",
    "\n",
    "ax.plot(df_T['T'], df_T['T_am'])\n",
    "\n",
    "ax.set_title('Corrección de Langbein')\n",
    "ax.set_ylabel('T Langbein [años]')\n",
    "ax.set_xlabel('T [años]')\n",
    "\n",
    "plt.show();"
   ]
  },
  {
   "cell_type": "markdown",
   "id": "floating-cable",
   "metadata": {},
   "source": [
    "#### El gráfico no es muy orientativo ya que aparenta ser una recta a 45°. De todas formas tener en cuenta que siempre existe una diferencia aunque sea mínima entre el período de retorno original y el corregido por Langbein."
   ]
  },
  {
   "cell_type": "markdown",
   "id": "comprehensive-multimedia",
   "metadata": {},
   "source": [
    "#### A continuación se analiza la diferencia entre aplicar o no la corrección:"
   ]
  },
  {
   "cell_type": "code",
   "execution_count": 12,
   "id": "essential-hypothesis",
   "metadata": {},
   "outputs": [
    {
     "data": {
      "text/html": [
       "<div>\n",
       "<style scoped>\n",
       "    .dataframe tbody tr th:only-of-type {\n",
       "        vertical-align: middle;\n",
       "    }\n",
       "\n",
       "    .dataframe tbody tr th {\n",
       "        vertical-align: top;\n",
       "    }\n",
       "\n",
       "    .dataframe thead th {\n",
       "        text-align: right;\n",
       "    }\n",
       "</style>\n",
       "<table border=\"1\" class=\"dataframe\">\n",
       "  <thead>\n",
       "    <tr style=\"text-align: right;\">\n",
       "      <th></th>\n",
       "      <th>T</th>\n",
       "      <th>T_am</th>\n",
       "      <th>Q_Tam</th>\n",
       "      <th>Q_T</th>\n",
       "      <th>dif_%</th>\n",
       "    </tr>\n",
       "  </thead>\n",
       "  <tbody>\n",
       "    <tr>\n",
       "      <th>0</th>\n",
       "      <td>2</td>\n",
       "      <td>2.541494</td>\n",
       "      <td>91.978440</td>\n",
       "      <td>81.069672</td>\n",
       "      <td>11.860135</td>\n",
       "    </tr>\n",
       "    <tr>\n",
       "      <th>1</th>\n",
       "      <td>3</td>\n",
       "      <td>3.527726</td>\n",
       "      <td>105.519960</td>\n",
       "      <td>98.977663</td>\n",
       "      <td>6.200057</td>\n",
       "    </tr>\n",
       "    <tr>\n",
       "      <th>2</th>\n",
       "      <td>4</td>\n",
       "      <td>4.520812</td>\n",
       "      <td>115.127822</td>\n",
       "      <td>110.438979</td>\n",
       "      <td>4.072728</td>\n",
       "    </tr>\n",
       "    <tr>\n",
       "      <th>3</th>\n",
       "      <td>5</td>\n",
       "      <td>5.516656</td>\n",
       "      <td>122.580258</td>\n",
       "      <td>118.923301</td>\n",
       "      <td>2.983316</td>\n",
       "    </tr>\n",
       "    <tr>\n",
       "      <th>4</th>\n",
       "      <td>6</td>\n",
       "      <td>6.513882</td>\n",
       "      <td>128.669342</td>\n",
       "      <td>125.671044</td>\n",
       "      <td>2.330235</td>\n",
       "    </tr>\n",
       "    <tr>\n",
       "      <th>994</th>\n",
       "      <td>996</td>\n",
       "      <td>996.500084</td>\n",
       "      <td>299.396948</td>\n",
       "      <td>299.380175</td>\n",
       "      <td>0.005602</td>\n",
       "    </tr>\n",
       "    <tr>\n",
       "      <th>995</th>\n",
       "      <td>997</td>\n",
       "      <td>997.500084</td>\n",
       "      <td>299.430462</td>\n",
       "      <td>299.413706</td>\n",
       "      <td>0.005596</td>\n",
       "    </tr>\n",
       "    <tr>\n",
       "      <th>996</th>\n",
       "      <td>998</td>\n",
       "      <td>998.500084</td>\n",
       "      <td>299.463944</td>\n",
       "      <td>299.447204</td>\n",
       "      <td>0.005590</td>\n",
       "    </tr>\n",
       "    <tr>\n",
       "      <th>997</th>\n",
       "      <td>999</td>\n",
       "      <td>999.500083</td>\n",
       "      <td>299.497391</td>\n",
       "      <td>299.480669</td>\n",
       "      <td>0.005584</td>\n",
       "    </tr>\n",
       "    <tr>\n",
       "      <th>998</th>\n",
       "      <td>1000</td>\n",
       "      <td>1000.500083</td>\n",
       "      <td>299.530805</td>\n",
       "      <td>299.514100</td>\n",
       "      <td>0.005577</td>\n",
       "    </tr>\n",
       "  </tbody>\n",
       "</table>\n",
       "</div>"
      ],
      "text/plain": [
       "        T         T_am       Q_Tam         Q_T      dif_%\n",
       "0       2     2.541494   91.978440   81.069672  11.860135\n",
       "1       3     3.527726  105.519960   98.977663   6.200057\n",
       "2       4     4.520812  115.127822  110.438979   4.072728\n",
       "3       5     5.516656  122.580258  118.923301   2.983316\n",
       "4       6     6.513882  128.669342  125.671044   2.330235\n",
       "994   996   996.500084  299.396948  299.380175   0.005602\n",
       "995   997   997.500084  299.430462  299.413706   0.005596\n",
       "996   998   998.500084  299.463944  299.447204   0.005590\n",
       "997   999   999.500083  299.497391  299.480669   0.005584\n",
       "998  1000  1000.500083  299.530805  299.514100   0.005577"
      ]
     },
     "execution_count": 12,
     "metadata": {},
     "output_type": "execute_result"
    }
   ],
   "source": [
    "# Se define df para ver la diferencia entre aplicar o no la corrección a distintos períodos\n",
    "# de retorno. \n",
    "df_T['Q_Tam'] = u + alpha * (-np.log(-np.log(1-(1/df_T['T_am']))))\n",
    "df_T['Q_T'] = u + alpha * (-np.log(-np.log(1-(1/df_T['T']))))\n",
    "\n",
    "df_T['dif_%'] = 100 * (df_T['Q_Tam'] - df_T['Q_T']) / df_T['Q_Tam'] # Diferencia % entre Q_Tam y Q_T\n",
    "\n",
    "df_preview(df_T, 5)"
   ]
  },
  {
   "cell_type": "markdown",
   "id": "theoretical-porter",
   "metadata": {},
   "source": [
    "#### Como se puede ver,  la diferencia entre aplicar la corrección o no es mucho más notoria para períodos de retorno bajos. Visualmente se ve de la siguiente manera:"
   ]
  },
  {
   "cell_type": "code",
   "execution_count": 13,
   "id": "planned-distribution",
   "metadata": {},
   "outputs": [
    {
     "data": {
      "image/png": "[encoded data removed]",
      "text/plain": [
       "<Figure size 720x360 with 1 Axes>"
      ]
     },
     "metadata": {},
     "output_type": "display_data"
    }
   ],
   "source": [
    "# Se define gráfico para visualizar la variación porcentual entre aplicar o no corrección\n",
    "fig, ax = plt.subplots(figsize=(10, 5))\n",
    "\n",
    "ax.plot(df_T['T'], df_T['dif_%'])\n",
    "\n",
    "ax.set_title('Variación Porcentual de la Corrección de Langbein')\n",
    "ax.set_ylabel('Diferencia %')\n",
    "ax.set_xlabel('T [años]')\n",
    "\n",
    "plt.xticks(np.arange(0, 1100, 100))\n",
    "\n",
    "plt.show();"
   ]
  },
  {
   "cell_type": "markdown",
   "id": "collaborative-gravity",
   "metadata": {},
   "source": [
    "#### Finalmente, se grafica la relación Caudal vs Período de Retorno habiendo aplicado la corrección tal como se debe:"
   ]
  },
  {
   "cell_type": "code",
   "execution_count": 14,
   "id": "proper-century",
   "metadata": {},
   "outputs": [
    {
     "data": {
      "image/png": "[encoded data removed]",
      "text/plain": [
       "<Figure size 1080x360 with 1 Axes>"
      ]
     },
     "metadata": {},
     "output_type": "display_data"
    }
   ],
   "source": [
    "# Se define gráfico para visualizar el caudal vs el período de retorno.\n",
    "fig, ax = plt.subplots(figsize=(15, 5))\n",
    "\n",
    "ax.plot(df_T['T'], df_T['Q_Tam'])\n",
    "\n",
    "ax.set_title('Caudal vs Período de Retorno (T)')\n",
    "ax.set_ylabel('Q [m3/s]')\n",
    "ax.set_xlabel('T [años]')\n",
    "\n",
    "plt.xticks(np.arange(0, 1100, 100))\n",
    "\n",
    "plt.show();"
   ]
  },
  {
   "cell_type": "markdown",
   "id": "lucky-bouquet",
   "metadata": {},
   "source": [
    "### 4. Obtener los períodos de retorno asociados a distintos caudales."
   ]
  },
  {
   "cell_type": "markdown",
   "id": "desperate-showcase",
   "metadata": {},
   "source": [
    "#### Lo correcto es despejar el período de retorno de Langbein de la expresión del cuantil y luego aplicar la corrección pero en el sentido inverso y así obtener el período de retorno original. La expresiónes despejadas que se tienen que resolver entonces son las siguientes:\n",
    "$$\n",
    "T_{am} = \\frac{1}{1 - e^{-e^{-(\\frac{Q_{T}-u}{\\alpha})}}}\n",
    "$$\n",
    "\\\n",
    "\\\n",
    "$$\n",
    "T = \\frac{-1}{ln(1 - \\frac{1}{T_{am}})}\n",
    "$$"
   ]
  },
  {
   "cell_type": "code",
   "execution_count": 15,
   "id": "capable-plant",
   "metadata": {},
   "outputs": [
    {
     "data": {
      "text/html": [
       "<div>\n",
       "<style scoped>\n",
       "    .dataframe tbody tr th:only-of-type {\n",
       "        vertical-align: middle;\n",
       "    }\n",
       "\n",
       "    .dataframe tbody tr th {\n",
       "        vertical-align: top;\n",
       "    }\n",
       "\n",
       "    .dataframe thead th {\n",
       "        text-align: right;\n",
       "    }\n",
       "</style>\n",
       "<table border=\"1\" class=\"dataframe\">\n",
       "  <thead>\n",
       "    <tr style=\"text-align: right;\">\n",
       "      <th></th>\n",
       "      <th>Q</th>\n",
       "      <th>T_am</th>\n",
       "      <th>T</th>\n",
       "    </tr>\n",
       "  </thead>\n",
       "  <tbody>\n",
       "    <tr>\n",
       "      <th>0</th>\n",
       "      <td>25</td>\n",
       "      <td>1.0</td>\n",
       "      <td>0.3</td>\n",
       "    </tr>\n",
       "    <tr>\n",
       "      <th>1</th>\n",
       "      <td>50</td>\n",
       "      <td>1.2</td>\n",
       "      <td>0.6</td>\n",
       "    </tr>\n",
       "    <tr>\n",
       "      <th>2</th>\n",
       "      <td>75</td>\n",
       "      <td>1.8</td>\n",
       "      <td>1.2</td>\n",
       "    </tr>\n",
       "    <tr>\n",
       "      <th>17</th>\n",
       "      <td>450</td>\n",
       "      <td>90505.3</td>\n",
       "      <td>90504.8</td>\n",
       "    </tr>\n",
       "    <tr>\n",
       "      <th>18</th>\n",
       "      <td>475</td>\n",
       "      <td>191323.3</td>\n",
       "      <td>191322.8</td>\n",
       "    </tr>\n",
       "    <tr>\n",
       "      <th>19</th>\n",
       "      <td>500</td>\n",
       "      <td>404447.7</td>\n",
       "      <td>404447.2</td>\n",
       "    </tr>\n",
       "  </tbody>\n",
       "</table>\n",
       "</div>"
      ],
      "text/plain": [
       "      Q      T_am         T\n",
       "0    25       1.0       0.3\n",
       "1    50       1.2       0.6\n",
       "2    75       1.8       1.2\n",
       "17  450   90505.3   90504.8\n",
       "18  475  191323.3  191322.8\n",
       "19  500  404447.7  404447.2"
      ]
     },
     "execution_count": 15,
     "metadata": {},
     "output_type": "execute_result"
    }
   ],
   "source": [
    "# Se define df para almacenar el perído de retorno asociado a diferentes cuantiles.\n",
    "df_Q = pd.DataFrame()\n",
    "\n",
    "df_Q['Q'] = np.arange(25, 525, 25)\n",
    "\n",
    "df_Q['T_am'] = 1 / (1 - np.exp(-np.exp(-(df_Q['Q'] - u) / alpha)))\n",
    "\n",
    "# Se aplica la correción de Langbein pero en el sentido inverso.\n",
    "df_Q['T'] = -1 / np.log(1 - (1 / df_Q['T_am']))\n",
    "\n",
    "df_Q['T_am'] = df_Q['T_am'].apply(lambda x: '%.1f' % x)\n",
    "df_Q['T'] = df_Q['T'].apply(lambda x: '%.1f' % x)\n",
    "\n",
    "df_preview(df_Q, 3)"
   ]
  },
  {
   "cell_type": "code",
   "execution_count": 16,
   "id": "expressed-sunset",
   "metadata": {},
   "outputs": [
    {
     "data": {
      "image/png": "[encoded data removed]",
      "text/plain": [
       "<Figure size 720x360 with 1 Axes>"
      ]
     },
     "metadata": {},
     "output_type": "display_data"
    }
   ],
   "source": [
    "# Se define gráfico para visualizar el periodo de retorno vs caudal.\n",
    "fig, ax = plt.subplots(figsize=(10, 5))\n",
    "\n",
    "ax.plot(df_Q['Q'], df_Q['T'])\n",
    "\n",
    "ax.set_title('Período de Retorno (T) vs Caudal')\n",
    "ax.set_ylabel('T [años]')\n",
    "ax.set_xlabel('Q[m3/s]')\n",
    "\n",
    "plt.xticks(np.arange(0, 525, 25))\n",
    "\n",
    "plt.show();"
   ]
  },
  {
   "cell_type": "markdown",
   "id": "square-fashion",
   "metadata": {},
   "source": [
    "#### Cuidado que en el gráfico anterior los valores indicados se encuentran equidistanciados para poder representarlos graficamente pero en realidad no es así."
   ]
  },
  {
   "cell_type": "markdown",
   "id": "cheap-amplifier",
   "metadata": {},
   "source": [
    "### 5. Calcular el período de retorno y el caudal de diseño de una obra cuya vida util será de 50 años y el riesgo asumido del 10%."
   ]
  },
  {
   "cell_type": "markdown",
   "id": "timely-spirit",
   "metadata": {},
   "source": [
    "#### En este caso aparece una nueva expresión que es la del riesgo y se define de la siguiente manera:\n",
    "$$\n",
    "R = 1 - (1 - \\frac{1}{T})^{N}\n",
    "$$\n",
    "#### **Cuidado**: en este caso T representa el período de retorno original y no el corregido por Langbein.\n",
    "#### En este caso se tienen los datos como para despejar el período de retorno original de la fórmula de riesgo, luego corregirlo por Langbein y así poder finalmente determinar el caudal de diseño."
   ]
  },
  {
   "cell_type": "code",
   "execution_count": 17,
   "id": "wicked-grain",
   "metadata": {},
   "outputs": [
    {
     "name": "stdout",
     "output_type": "stream",
     "text": [
      "El período de retorno es:  475.061 años \n",
      "El caudal de diseño es:  274.673 m3/s\n"
     ]
    }
   ],
   "source": [
    "R = 0.10 \n",
    "N = 50 # años\n",
    "T = 1 / (1 - (1 - R) ** (1/N))\n",
    "T_am = 1 / (1 - np.exp(-1/T))\n",
    "Q = u + alpha * (-np.log(-np.log(1 - (1/T_am))))\n",
    "\n",
    "print('El período de retorno es: ', round(T, 3), 'años','\\n'\n",
    "      'El caudal de diseño es: ', round(Q, 3), 'm3/s'\n",
    "     )"
   ]
  },
  {
   "cell_type": "markdown",
   "id": "hollywood-growth",
   "metadata": {},
   "source": [
    "### 6. Calcular el riesgo que se asume al diseñar dicha obra para un caudal de 100 m3/s y vida util de 50 años."
   ]
  },
  {
   "cell_type": "markdown",
   "id": "monetary-tumor",
   "metadata": {},
   "source": [
    "#### El ejercicio es similar al anterior pero al revés. A partir de la expresión del cuantil se despeja el período de retorno corregido por Langbein, luego se calcula el período de retorno original y con este finalmente el riesgo asumido. "
   ]
  },
  {
   "cell_type": "code",
   "execution_count": 18,
   "id": "processed-battery",
   "metadata": {},
   "outputs": [
    {
     "name": "stdout",
     "output_type": "stream",
     "text": [
      "El período de retorno corregido es:  51.285 \n",
      "El período de retorno real es:  50.783 \n",
      "El riego asumido es:  0.63\n"
     ]
    }
   ],
   "source": [
    "Q = 200 # m3/s\n",
    "N = 50 # años\n",
    "T_am = 1 / (1 - np.exp(-np.exp(-(Q - u) / alpha)))\n",
    "\n",
    "# Se aplica la correción de Langbein pero en el sentido inverso.\n",
    "T = -1 / np.log(1 - (1 / T_am))\n",
    "R = 1 - (1 - (1/T)) ** N\n",
    "print('El período de retorno corregido es: ', round(T_am, 3), '\\n'\n",
    "      'El período de retorno real es: ', round(T, 3),'\\n'\n",
    "      'El riego asumido es: ', round(R, 3)\n",
    "     )"
   ]
  },
  {
   "cell_type": "markdown",
   "id": "expired-original",
   "metadata": {},
   "source": [
    "## Conclusiones\n",
    "#### 1 - La corrección de Langbein solo debe aplicarse si el modelo utilizado es el de máximos anuales. La corrección busca corregir falencias del modelo. Al considerar un único valor por año, puede que eventos (independientes) que no fueron los máximos de su año de ocurrencia queden fuera de la muestra. Esto trae aparejado que los períodos de retorno calculados resulten exagerados.\n",
    "#### 2 - Un criterio es aplicarlo siempre independientemente del período de retorno que se esté analizando. De todos modos, tampoco está mal no utilizarlo cuando su incidencia deja de ser relevante. Lo importante siempre es justificar y aclarar el criterio adoptado.\n",
    "#### 3 - ¿La corrección de Langbein me deja del lado de la seguridad? Sí, vean en los ejemplos que al despejar caudales, los resultados son mayores al aplicar la corrección o en el caso inverso al despejar períodos de retorno reales los resutados son menores que los corregidos."
   ]
  }
 ],
 "metadata": {
  "kernelspec": {
   "display_name": "Python 3",
   "language": "python",
   "name": "python3"
  },
  "language_info": {
   "codemirror_mode": {
    "name": "ipython",
    "version": 3
   },
   "file_extension": ".py",
   "mimetype": "text/x-python",
   "name": "python",
   "nbconvert_exporter": "python",
   "pygments_lexer": "ipython3",
   "version": "3.7.7"
  }
 },
 "nbformat": 4,
 "nbformat_minor": 5
}
